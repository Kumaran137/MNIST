{
 "cells": [
  {
   "cell_type": "code",
   "execution_count": 1,
   "metadata": {},
   "outputs": [],
   "source": [
    "import torch\n",
    "import torchvision\n",
    "from torchvision.datasets import MNIST \n",
    "import numpy as np "
   ]
  },
  {
   "cell_type": "code",
   "execution_count": 2,
   "metadata": {},
   "outputs": [],
   "source": [
    "dataset=MNIST(root=\"C:\" , download=True)"
   ]
  },
  {
   "cell_type": "code",
   "execution_count": 3,
   "metadata": {},
   "outputs": [
    {
     "data": {
      "text/plain": [
       "60000"
      ]
     },
     "execution_count": 3,
     "metadata": {},
     "output_type": "execute_result"
    }
   ],
   "source": [
    "len(dataset)"
   ]
  },
  {
   "cell_type": "code",
   "execution_count": 4,
   "metadata": {},
   "outputs": [
    {
     "data": {
      "text/plain": [
       "10000"
      ]
     },
     "execution_count": 4,
     "metadata": {},
     "output_type": "execute_result"
    }
   ],
   "source": [
    "test_dataset=MNIST(root=\"C:\",train=False)\n",
    "len(test_dataset)"
   ]
  },
  {
   "cell_type": "code",
   "execution_count": 5,
   "metadata": {},
   "outputs": [
    {
     "data": {
      "text/plain": [
       "(<PIL.Image.Image image mode=L size=28x28 at 0x25C6AE4FA00>, 5)"
      ]
     },
     "execution_count": 5,
     "metadata": {},
     "output_type": "execute_result"
    }
   ],
   "source": [
    "dataset[0]"
   ]
  },
  {
   "cell_type": "code",
   "execution_count": 6,
   "metadata": {},
   "outputs": [],
   "source": [
    "import matplotlib.pyplot as plt\n",
    "%matplotlib inline\n"
   ]
  },
  {
   "cell_type": "code",
   "execution_count": 7,
   "metadata": {},
   "outputs": [
    {
     "name": "stdout",
     "output_type": "stream",
     "text": [
      "lable: 5\n"
     ]
    },
    {
     "data": {
      "image/png": "[encoded data removed]",
      "text/plain": [
       "<Figure size 432x288 with 1 Axes>"
      ]
     },
     "metadata": {
      "needs_background": "light"
     },
     "output_type": "display_data"
    }
   ],
   "source": [
    "img,lab=dataset[0]\n",
    "plt.imshow(img,cmap=\"gray\")\n",
    "print(\"lable:\",lab)\n"
   ]
  },
  {
   "cell_type": "code",
   "execution_count": 8,
   "metadata": {},
   "outputs": [
    {
     "name": "stdout",
     "output_type": "stream",
     "text": [
      "lable: 4\n"
     ]
    },
    {
     "data": {
      "image/png": "[encoded data removed]",
      "text/plain": [
       "<Figure size 432x288 with 1 Axes>"
      ]
     },
     "metadata": {
      "needs_background": "light"
     },
     "output_type": "display_data"
    }
   ],
   "source": [
    "img,lab=dataset[20]\n",
    "plt.imshow(img,cmap=\"gray\")\n",
    "print(\"lable:\",lab)\n"
   ]
  },
  {
   "cell_type": "code",
   "execution_count": 9,
   "metadata": {},
   "outputs": [],
   "source": [
    "import torchvision.transforms as transforms"
   ]
  },
  {
   "cell_type": "code",
   "execution_count": 10,
   "metadata": {},
   "outputs": [],
   "source": [
    "dataset=MNIST(root=\"C:\",train=True,transform=transforms.ToTensor())"
   ]
  },
  {
   "cell_type": "code",
   "execution_count": 11,
   "metadata": {},
   "outputs": [
    {
     "name": "stdout",
     "output_type": "stream",
     "text": [
      "torch.Size([1, 28, 28])\n"
     ]
    }
   ],
   "source": [
    "img_tensors,lab=dataset[0]\n",
    "print(img_tensors.shape)"
   ]
  },
  {
   "cell_type": "code",
   "execution_count": 12,
   "metadata": {},
   "outputs": [
    {
     "name": "stdout",
     "output_type": "stream",
     "text": [
      "tensor([[[0.0000, 0.0000, 0.0000, 0.0000, 0.0000, 0.0000, 0.0000, 0.0118,\n",
      "          0.0706, 0.0706, 0.0706, 0.4941, 0.5333, 0.6863, 0.1020],\n",
      "         [0.0000, 0.0000, 0.0000, 0.1176, 0.1412, 0.3686, 0.6039, 0.6667,\n",
      "          0.9922, 0.9922, 0.9922, 0.9922, 0.9922, 0.8824, 0.6745],\n",
      "         [0.0000, 0.0000, 0.1922, 0.9333, 0.9922, 0.9922, 0.9922, 0.9922,\n",
      "          0.9922, 0.9922, 0.9922, 0.9922, 0.9843, 0.3647, 0.3216],\n",
      "         [0.0000, 0.0000, 0.0706, 0.8588, 0.9922, 0.9922, 0.9922, 0.9922,\n",
      "          0.9922, 0.7765, 0.7137, 0.9686, 0.9451, 0.0000, 0.0000],\n",
      "         [0.0000, 0.0000, 0.0000, 0.3137, 0.6118, 0.4196, 0.9922, 0.9922,\n",
      "          0.8039, 0.0431, 0.0000, 0.1686, 0.6039, 0.0000, 0.0000],\n",
      "         [0.0000, 0.0000, 0.0000, 0.0000, 0.0549, 0.0039, 0.6039, 0.9922,\n",
      "          0.3529, 0.0000, 0.0000, 0.0000, 0.0000, 0.0000, 0.0000],\n",
      "         [0.0000, 0.0000, 0.0000, 0.0000, 0.0000, 0.0000, 0.5451, 0.9922,\n",
      "          0.7451, 0.0078, 0.0000, 0.0000, 0.0000, 0.0000, 0.0000],\n",
      "         [0.0000, 0.0000, 0.0000, 0.0000, 0.0000, 0.0000, 0.0431, 0.7451,\n",
      "          0.9922, 0.2745, 0.0000, 0.0000, 0.0000, 0.0000, 0.0000],\n",
      "         [0.0000, 0.0000, 0.0000, 0.0000, 0.0000, 0.0000, 0.0000, 0.1373,\n",
      "          0.9451, 0.8824, 0.6275, 0.4235, 0.0039, 0.0000, 0.0000],\n",
      "         [0.0000, 0.0000, 0.0000, 0.0000, 0.0000, 0.0000, 0.0000, 0.0000,\n",
      "          0.3176, 0.9412, 0.9922, 0.9922, 0.4667, 0.0980, 0.0000]]])\n",
      "tensor(1.) tensor(0.)\n"
     ]
    }
   ],
   "source": [
    "print(img_tensors[:,5:15,5:20])\n",
    "print(torch.max(img_tensors),torch.min(img_tensors))"
   ]
  },
  {
   "cell_type": "code",
   "execution_count": 13,
   "metadata": {},
   "outputs": [
    {
     "data": {
      "text/plain": [
       "torch.Size([28, 28])"
      ]
     },
     "execution_count": 13,
     "metadata": {},
     "output_type": "execute_result"
    },
    {
     "data": {
      "image/png": "[encoded data removed]",
      "text/plain": [
       "<Figure size 432x288 with 1 Axes>"
      ]
     },
     "metadata": {
      "needs_background": "light"
     },
     "output_type": "display_data"
    }
   ],
   "source": [
    "plt.imshow(img_tensors[0,5:15,5:20],cmap=\"gray\")\n",
    "img_tensors[0,:,:].shape"
   ]
  },
  {
   "cell_type": "code",
   "execution_count": 14,
   "metadata": {},
   "outputs": [],
   "source": [
    "from torch.utils.data import random_split"
   ]
  },
  {
   "cell_type": "code",
   "execution_count": 15,
   "metadata": {},
   "outputs": [
    {
     "name": "stdout",
     "output_type": "stream",
     "text": [
      "50000 10000\n"
     ]
    }
   ],
   "source": [
    "train_ds,val_ds=random_split(dataset,[50000,10000])\n",
    "print(len(train_ds),len(val_ds))"
   ]
  },
  {
   "cell_type": "code",
   "execution_count": 16,
   "metadata": {},
   "outputs": [],
   "source": [
    "from torch.utils.data import DataLoader\n",
    "\n",
    "batch_size=128\n",
    "\n",
    "train_loader=DataLoader(train_ds,batch_size,shuffle=True)\n",
    "val_loader=DataLoader(val_ds,batch_size)"
   ]
  },
  {
   "cell_type": "code",
   "execution_count": 17,
   "metadata": {},
   "outputs": [
    {
     "name": "stdout",
     "output_type": "stream",
     "text": [
      "2\n",
      "2\n",
      "2\n",
      "2\n",
      "2\n"
     ]
    },
    {
     "data": {
      "image/png": "[encoded data removed]",
      "text/plain": [
       "<Figure size 432x288 with 1 Axes>"
      ]
     },
     "metadata": {
      "needs_background": "light"
     },
     "output_type": "display_data"
    }
   ],
   "source": [
    "c=0\n",
    "for i,j in train_loader:\n",
    "    print(i[0,0,:].ndim)\n",
    "    plt.imshow(i[0,0,:],cmap=\"gray\")\n",
    "    c=c+1\n",
    "    if c==5:\n",
    "        break"
   ]
  },
  {
   "cell_type": "code",
   "execution_count": 18,
   "metadata": {},
   "outputs": [
    {
     "name": "stdout",
     "output_type": "stream",
     "text": [
      "3\n",
      "3\n",
      "3\n",
      "3\n",
      "3\n"
     ]
    },
    {
     "data": {
      "image/png": "[encoded data removed]",
      "text/plain": [
       "<Figure size 432x288 with 1 Axes>"
      ]
     },
     "metadata": {
      "needs_background": "light"
     },
     "output_type": "display_data"
    }
   ],
   "source": [
    "c=0\n",
    "for i,j in train_loader:\n",
    "    print(np.transpose(i[0].numpy(),(1,2,0)).ndim)\n",
    "    plt.imshow(np.transpose(i[0].numpy(),(1,2,0)),cmap=\"gray\")\n",
    "    c=c+1\n",
    "    if c==5:\n",
    "        break"
   ]
  },
  {
   "cell_type": "code",
   "execution_count": 19,
   "metadata": {},
   "outputs": [
    {
     "name": "stdout",
     "output_type": "stream",
     "text": [
      "torch.Size([128, 1, 28, 28])\n",
      "3\n",
      "torch.Size([128, 1, 28, 28])\n",
      "3\n",
      "torch.Size([128, 1, 28, 28])\n",
      "3\n",
      "torch.Size([128, 1, 28, 28])\n",
      "3\n",
      "torch.Size([128, 1, 28, 28])\n",
      "3\n"
     ]
    },
    {
     "data": {
      "image/png": "[encoded data removed]",
      "text/plain": [
       "<Figure size 432x288 with 1 Axes>"
      ]
     },
     "metadata": {
      "needs_background": "light"
     },
     "output_type": "display_data"
    }
   ],
   "source": [
    "c=0\n",
    "for i,j in train_loader:\n",
    "    print(i.shape)\n",
    "    print(np.transpose(i[0].numpy(),(1,2,0)).ndim)\n",
    "    plt.imshow(torch.permute(i[0],(1,2,0)),cmap=\"gray\")\n",
    "    c=c+1\n",
    "    if c==5:\n",
    "        break"
   ]
  },
  {
   "cell_type": "code",
   "execution_count": 20,
   "metadata": {},
   "outputs": [],
   "source": [
    "import torch.nn as nn \n",
    "import torch.nn.functional as f\n",
    "model=nn.Linear(28*28,10)"
   ]
  },
  {
   "cell_type": "code",
   "execution_count": 21,
   "metadata": {},
   "outputs": [
    {
     "name": "stdout",
     "output_type": "stream",
     "text": [
      "torch.Size([10, 784])\n",
      "torch.Size([10])\n"
     ]
    }
   ],
   "source": [
    "print(model.weight.shape)\n",
    "print(model.bias.shape)"
   ]
  },
  {
   "cell_type": "code",
   "execution_count": 22,
   "metadata": {},
   "outputs": [
    {
     "data": {
      "text/plain": [
       "5"
      ]
     },
     "execution_count": 22,
     "metadata": {},
     "output_type": "execute_result"
    }
   ],
   "source": [
    "def accuracy(out,lab):\n",
    "    _,preds=torch.max(out,dim=1)\n",
    "    return torch.tensor(torch.sum(preds==lab).item()/len(preds))\n",
    "lab"
   ]
  },
  {
   "cell_type": "code",
   "execution_count": 23,
   "metadata": {},
   "outputs": [],
   "source": [
    "def evaluate(model,val_loader):\n",
    "    e=[model.validation_step(batch) for batch in val_loader]\n",
    "    return model.validation_epoch_end(e)"
   ]
  },
  {
   "cell_type": "code",
   "execution_count": 24,
   "metadata": {},
   "outputs": [],
   "source": [
    "class ministmodel(nn.Module):\n",
    "    def __init__(self):\n",
    "        super().__init__()\n",
    "        self.linear=nn.Linear(28*28,10)\n",
    "    def forward(self,x):\n",
    "        x=x.reshape(-1,28*28)\n",
    "        return self.linear(x)\n",
    "    \n",
    "    def training_step(self,batch):\n",
    "        images,lables=batch\n",
    "        out=self.forward(images)\n",
    "        loss=f.cross_entropy(out,lables)\n",
    "        return loss\n",
    "    \n",
    "    def validation_step(self,batch):\n",
    "        images, lables =batch\n",
    "        out=self.forward(images)\n",
    "        loss=f.cross_entropy(out,lables)\n",
    "        acc=accuracy(out,lables)\n",
    "        return {\"val_loss\":loss,\"val_acc\":acc}\n",
    "    \n",
    "    def validation_epoch_end(self,out):\n",
    "        batch_loss=[x[\"val_loss\"] for x in out]\n",
    "        batch_acc=[x[\"val_acc\"] for x in out]\n",
    "        epoch_loss=torch.stack(batch_loss).mean()\n",
    "        epoch_acc=torch.stack(batch_acc).mean()\n",
    "        return {\"val_loss\":epoch_loss.item(),\"val_acc\":epoch_acc.item()}\n",
    "    \n",
    "    def epoch_end(self,epoch,result):\n",
    "        print(\"Epoch[{}] ,val_loss:{:.4f},val_acc:{:.4f} \".format(epoch,result[\"val_loss\"],result[\"val_acc\"]))\n",
    "        \n",
    "\n",
    "\n",
    "\n",
    "model=ministmodel()"
   ]
  },
  {
   "cell_type": "code",
   "execution_count": 25,
   "metadata": {},
   "outputs": [],
   "source": [
    "def fit(epochs,model,lr,train_loader,val_loader,opt_func=torch.optim.SGD):\n",
    "    optimizer=opt_func(model.parameters(),lr)\n",
    "    history=[]\n",
    "\n",
    "    for epoch in range(epochs):\n",
    "        for batch in train_loader:\n",
    "            loss=model.training_step(batch)\n",
    "            loss.backward()\n",
    "            optimizer.step()\n",
    "            optimizer.zero_grad()\n",
    "\n",
    "        res=evaluate(model,val_loader)\n",
    "        model.epoch_end(epoch,res)\n",
    "        history.append(res)\n",
    "    return history"
   ]
  },
  {
   "cell_type": "code",
   "execution_count": 26,
   "metadata": {},
   "outputs": [
    {
     "name": "stdout",
     "output_type": "stream",
     "text": [
      "Epoch[0] ,val_loss:0.3377,val_acc:0.9065 \n",
      "Epoch[1] ,val_loss:0.3200,val_acc:0.9117 \n",
      "Epoch[2] ,val_loss:0.3197,val_acc:0.9114 \n",
      "Epoch[3] ,val_loss:0.3130,val_acc:0.9143 \n",
      "Epoch[4] ,val_loss:0.3067,val_acc:0.9148 \n",
      "Epoch[5] ,val_loss:0.3122,val_acc:0.9121 \n"
     ]
    }
   ],
   "source": [
    "history1=fit(6,model,0.5,train_loader,val_loader)"
   ]
  },
  {
   "cell_type": "code",
   "execution_count": 27,
   "metadata": {},
   "outputs": [
    {
     "name": "stdout",
     "output_type": "stream",
     "text": [
      "Epoch[0] ,val_loss:0.3073,val_acc:0.9141 \n",
      "Epoch[1] ,val_loss:0.3045,val_acc:0.9150 \n",
      "Epoch[2] ,val_loss:0.3029,val_acc:0.9150 \n",
      "Epoch[3] ,val_loss:0.3020,val_acc:0.9155 \n",
      "Epoch[4] ,val_loss:0.3014,val_acc:0.9152 \n",
      "Epoch[5] ,val_loss:0.3010,val_acc:0.9157 \n"
     ]
    }
   ],
   "source": [
    "history2=fit(6,model,0.001,train_loader,val_loader)"
   ]
  },
  {
   "cell_type": "code",
   "execution_count": 28,
   "metadata": {},
   "outputs": [
    {
     "name": "stdout",
     "output_type": "stream",
     "text": [
      "Epoch[0] ,val_loss:0.3007,val_acc:0.9158 \n",
      "Epoch[1] ,val_loss:0.3005,val_acc:0.9160 \n",
      "Epoch[2] ,val_loss:0.3003,val_acc:0.9160 \n",
      "Epoch[3] ,val_loss:0.3002,val_acc:0.9159 \n",
      "Epoch[4] ,val_loss:0.3001,val_acc:0.9159 \n",
      "Epoch[5] ,val_loss:0.3000,val_acc:0.9160 \n"
     ]
    }
   ],
   "source": [
    "history3=fit(6,model,0.001,train_loader,val_loader)"
   ]
  },
  {
   "cell_type": "code",
   "execution_count": 29,
   "metadata": {},
   "outputs": [
    {
     "name": "stdout",
     "output_type": "stream",
     "text": [
      "Epoch[0] ,val_loss:0.2999,val_acc:0.9159 \n",
      "Epoch[1] ,val_loss:0.2998,val_acc:0.9158 \n",
      "Epoch[2] ,val_loss:0.2998,val_acc:0.9158 \n",
      "Epoch[3] ,val_loss:0.2997,val_acc:0.9159 \n",
      "Epoch[4] ,val_loss:0.2997,val_acc:0.9159 \n",
      "Epoch[5] ,val_loss:0.2996,val_acc:0.9160 \n"
     ]
    }
   ],
   "source": [
    "history4=fit(6,model,0.001,train_loader,val_loader)"
   ]
  },
  {
   "cell_type": "code",
   "execution_count": 30,
   "metadata": {},
   "outputs": [
    {
     "name": "stdout",
     "output_type": "stream",
     "text": [
      "Epoch[0] ,val_loss:0.2996,val_acc:0.9160 \n",
      "Epoch[1] ,val_loss:0.2995,val_acc:0.9161 \n",
      "Epoch[2] ,val_loss:0.2995,val_acc:0.9163 \n",
      "Epoch[3] ,val_loss:0.2995,val_acc:0.9163 \n",
      "Epoch[4] ,val_loss:0.2994,val_acc:0.9163 \n",
      "Epoch[5] ,val_loss:0.2994,val_acc:0.9163 \n"
     ]
    }
   ],
   "source": [
    "history4=fit(6,model,0.001,train_loader,val_loader)"
   ]
  },
  {
   "cell_type": "code",
   "execution_count": 31,
   "metadata": {},
   "outputs": [
    {
     "name": "stdout",
     "output_type": "stream",
     "text": [
      "Epoch[0] ,val_loss:0.2994,val_acc:0.9163 \n",
      "Epoch[1] ,val_loss:0.2993,val_acc:0.9163 \n",
      "Epoch[2] ,val_loss:0.2993,val_acc:0.9165 \n",
      "Epoch[3] ,val_loss:0.2993,val_acc:0.9165 \n",
      "Epoch[4] ,val_loss:0.2992,val_acc:0.9166 \n",
      "Epoch[5] ,val_loss:0.2992,val_acc:0.9163 \n"
     ]
    }
   ],
   "source": [
    "history4=fit(6,model,0.001,train_loader,val_loader)"
   ]
  },
  {
   "cell_type": "code",
   "execution_count": 32,
   "metadata": {},
   "outputs": [],
   "source": [
    "test=MNIST(root=\"C:\",train=False,transform=transforms.ToTensor())\n"
   ]
  },
  {
   "cell_type": "code",
   "execution_count": 33,
   "metadata": {},
   "outputs": [],
   "source": [
    "def predict(image,lable):\n",
    "    x=image.unsqueeze(0)\n",
    "    x=model.forward(x)\n",
    "    _,preds=torch.max(x,dim=1)\n",
    "    return preds[0].item()\n"
   ]
  },
  {
   "cell_type": "code",
   "execution_count": 34,
   "metadata": {},
   "outputs": [
    {
     "name": "stdout",
     "output_type": "stream",
     "text": [
      "preddicted: 7 Label: 7\n"
     ]
    },
    {
     "data": {
      "image/png": "[encoded data removed]",
      "text/plain": [
       "<Figure size 432x288 with 1 Axes>"
      ]
     },
     "metadata": {
      "needs_background": "light"
     },
     "output_type": "display_data"
    }
   ],
   "source": [
    "img,lab=test[0]\n",
    "plt.imshow(img[0],cmap=\"gray\")\n",
    "print(\"preddicted:\",predict(img,lab),\"Label:\",lab)"
   ]
  },
  {
   "cell_type": "code",
   "execution_count": 35,
   "metadata": {},
   "outputs": [
    {
     "name": "stdout",
     "output_type": "stream",
     "text": [
      "preddicted: 0 Label: 0\n"
     ]
    },
    {
     "data": {
      "image/png": "[encoded data removed]",
      "text/plain": [
       "<Figure size 432x288 with 1 Axes>"
      ]
     },
     "metadata": {
      "needs_background": "light"
     },
     "output_type": "display_data"
    }
   ],
   "source": [
    "img,lab=test[10]\n",
    "plt.imshow(img[0],cmap=\"gray\")\n",
    "print(\"preddicted:\",predict(img,lab),\"Label:\",lab)"
   ]
  },
  {
   "cell_type": "code",
   "execution_count": 36,
   "metadata": {},
   "outputs": [
    {
     "name": "stdout",
     "output_type": "stream",
     "text": [
      "predicted: 3 Label: 9\n"
     ]
    },
    {
     "data": {
      "image/png": "[encoded data removed]",
      "text/plain": [
       "<Figure size 432x288 with 1 Axes>"
      ]
     },
     "metadata": {
      "needs_background": "light"
     },
     "output_type": "display_data"
    }
   ],
   "source": [
    "img,lab=test[193]\n",
    "plt.imshow(img[0],cmap=\"gray\")\n",
    "print(\"predicted:\",predict(img,lab),\"Label:\",lab)"
   ]
  },
  {
   "cell_type": "code",
   "execution_count": 37,
   "metadata": {},
   "outputs": [
    {
     "name": "stdout",
     "output_type": "stream",
     "text": [
      "predicted: 8 Label: 2\n"
     ]
    },
    {
     "data": {
      "image/png": "[encoded data removed]",
      "text/plain": [
       "<Figure size 432x288 with 1 Axes>"
      ]
     },
     "metadata": {
      "needs_background": "light"
     },
     "output_type": "display_data"
    }
   ],
   "source": [
    "img,lab=test[1839]\n",
    "plt.imshow(img[0],cmap=\"gray\")\n",
    "print(\"predicted:\",predict(img,lab),\"Label:\",lab)"
   ]
  },
  {
   "cell_type": "code",
   "execution_count": 38,
   "metadata": {},
   "outputs": [],
   "source": [
    "torch.save(model.state_dict(),\"Working with MNIST(Linear relations).pth\")"
   ]
  },
  {
   "cell_type": "code",
   "execution_count": 39,
   "metadata": {},
   "outputs": [
    {
     "data": {
      "text/plain": [
       "OrderedDict([('linear.weight',\n",
       "              tensor([[-0.0060,  0.0287, -0.0315,  ..., -0.0020, -0.0322, -0.0079],\n",
       "                      [ 0.0074,  0.0277, -0.0172,  ...,  0.0170, -0.0040,  0.0270],\n",
       "                      [ 0.0098,  0.0221, -0.0111,  ...,  0.0049, -0.0285,  0.0113],\n",
       "                      ...,\n",
       "                      [ 0.0343, -0.0270, -0.0041,  ...,  0.0183, -0.0215, -0.0063],\n",
       "                      [ 0.0156, -0.0167,  0.0274,  ..., -0.0077, -0.0056,  0.0350],\n",
       "                      [ 0.0027, -0.0117,  0.0355,  ...,  0.0124, -0.0156,  0.0202]])),\n",
       "             ('linear.bias',\n",
       "              tensor([-0.6031,  0.4492,  0.2201, -0.3362,  0.0509,  1.8410, -0.1265,  0.8557,\n",
       "                      -1.9178, -0.3606]))])"
      ]
     },
     "execution_count": 39,
     "metadata": {},
     "output_type": "execute_result"
    }
   ],
   "source": [
    "model2=ministmodel()\n",
    "model2.load_state_dict(torch.load(\"Working with MNIST(Linear relations).pth\"))\n",
    "model2.state_dict()"
   ]
  }
 ],
 "metadata": {
  "kernelspec": {
   "display_name": "Python 3",
   "language": "python",
   "name": "python3"
  },
  "language_info": {
   "codemirror_mode": {
    "name": "ipython",
    "version": 3
   },
   "file_extension": ".py",
   "mimetype": "text/x-python",
   "name": "python",
   "nbconvert_exporter": "python",
   "pygments_lexer": "ipython3",
   "version": "3.10.1"
  },
  "orig_nbformat": 4,
  "vscode": {
   "interpreter": {
    "hash": "733c0001e387b32b3c97dc05bc9393c651a3080ea8ebb3a59d476e7d8805425b"
   }
  }
 },
 "nbformat": 4,
 "nbformat_minor": 2
}
